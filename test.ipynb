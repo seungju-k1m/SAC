{
 "metadata": {
  "language_info": {
   "codemirror_mode": {
    "name": "ipython",
    "version": 3
   },
   "file_extension": ".py",
   "mimetype": "text/x-python",
   "name": "python",
   "nbconvert_exporter": "python",
   "pygments_lexer": "ipython3",
   "version": "3.6.12-final"
  },
  "orig_nbformat": 2,
  "kernelspec": {
   "name": "Python 3.6.12 64-bit ('obj_detect': conda)",
   "display_name": "Python 3.6.12 64-bit ('obj_detect': conda)",
   "metadata": {
    "interpreter": {
     "hash": "7deb1b2438bfe545aae19c35ee68784cd1c44f3434dac092ec0b61f0646d1489"
    }
   }
  }
 },
 "nbformat": 4,
 "nbformat_minor": 2,
 "cells": [
  {
   "cell_type": "code",
   "execution_count": 1,
   "metadata": {},
   "outputs": [],
   "source": [
    "from baseline.baseNetwork import MLP, CNET"
   ]
  },
  {
   "cell_type": "code",
   "execution_count": 2,
   "metadata": {},
   "outputs": [],
   "source": [
    "MLPDict = {}\n",
    "MLPDict['nLayer'] = 3\n",
    "MLPDict['fSize'] = [256, 256, 2]\n",
    "MLPDict['act'] = [\"relu\", \"relu\", \"linear\"]\n",
    "MLPDict['BN'] = \"True\"\n",
    "MLPDict[\"linear\"] = \"True\"\n",
    "\n",
    "c = {}\n",
    "c['nLayer'] = 6\n",
    "c['nUnit'] = [32, 32, 16]\n",
    "c['fSize'] = [3,3,3,-1,256,2]\n",
    "c['stride'] = [4,2,1]\n",
    "c['padding'] = [1,1,1]\n",
    "c['act'] = \"relu\"\n",
    "c['linear'] = \"True\"\n",
    "c[\"BN\"] = \"True\""
   ]
  },
  {
   "cell_type": "code",
   "execution_count": 3,
   "metadata": {},
   "outputs": [],
   "source": [
    "mlp = MLP(MLPDict)"
   ]
  },
  {
   "cell_type": "code",
   "execution_count": 4,
   "metadata": {},
   "outputs": [
    {
     "output_type": "execute_result",
     "data": {
      "text/plain": [
       "MLP(\n",
       "  (MLP_1): Linear(in_features=1, out_features=256, bias=False)\n",
       "  (batchNorm_1): BatchNorm1d(256, eps=1e-05, momentum=0.1, affine=True, track_running_stats=True)\n",
       "  (act_1): ReLU()\n",
       "  (MLP_2): Linear(in_features=256, out_features=256, bias=False)\n",
       "  (batchNorm_2): BatchNorm1d(256, eps=1e-05, momentum=0.1, affine=True, track_running_stats=True)\n",
       "  (act_2): ReLU()\n",
       "  (MLP_3): Linear(in_features=256, out_features=2, bias=False)\n",
       ")"
      ]
     },
     "metadata": {},
     "execution_count": 4
    }
   ],
   "source": [
    "import torch\n",
    "a = torch.zeros((1,1))\n",
    "mlp.eval()"
   ]
  },
  {
   "cell_type": "code",
   "execution_count": 5,
   "metadata": {},
   "outputs": [],
   "source": [
    "cc = CNET(c)"
   ]
  },
  {
   "cell_type": "code",
   "execution_count": 6,
   "metadata": {},
   "outputs": [
    {
     "output_type": "execute_result",
     "data": {
      "text/plain": [
       "CNET(\n",
       "  (conv_1): Conv2d(3, 32, kernel_size=(3, 3), stride=(4, 4), padding=(1, 1), bias=False)\n",
       "  (batchNorm_1): BatchNorm2d(32, eps=1e-05, momentum=0.1, affine=True, track_running_stats=True)\n",
       "  (act_1): ReLU()\n",
       "  (conv_2): Conv2d(32, 32, kernel_size=(3, 3), stride=(2, 2), padding=(1, 1), bias=False)\n",
       "  (batchNorm_2): BatchNorm2d(32, eps=1e-05, momentum=0.1, affine=True, track_running_stats=True)\n",
       "  (act_2): ReLU()\n",
       "  (conv_3): Conv2d(32, 16, kernel_size=(3, 3), stride=(1, 1), padding=(1, 1), bias=False)\n",
       "  (batchNorm_3): BatchNorm2d(16, eps=1e-05, momentum=0.1, affine=True, track_running_stats=True)\n",
       "  (act_3): ReLU()\n",
       "  (Flatten): Flatten()\n",
       "  (MLP_5): Linear(in_features=1600, out_features=256, bias=False)\n",
       "  (batchNorm_5): BatchNorm1d(256, eps=1e-05, momentum=0.1, affine=True, track_running_stats=True)\n",
       "  (act_5): ReLU()\n",
       "  (MLP_6): Linear(in_features=256, out_features=2, bias=False)\n",
       ")"
      ]
     },
     "metadata": {},
     "execution_count": 6
    }
   ],
   "source": [
    "cc"
   ]
  },
  {
   "cell_type": "code",
   "execution_count": 7,
   "metadata": {},
   "outputs": [],
   "source": [
    "a = torch.zeros((10, 3, 80, 80))\n",
    "b = cc.forward(a)"
   ]
  },
  {
   "cell_type": "code",
   "execution_count": 8,
   "metadata": {},
   "outputs": [
    {
     "output_type": "execute_result",
     "data": {
      "text/plain": [
       "tensor([[0., 0.],\n",
       "        [0., 0.],\n",
       "        [0., 0.],\n",
       "        [0., 0.],\n",
       "        [0., 0.],\n",
       "        [0., 0.],\n",
       "        [0., 0.],\n",
       "        [0., 0.],\n",
       "        [0., 0.],\n",
       "        [0., 0.]], grad_fn=<MmBackward>)"
      ]
     },
     "metadata": {},
     "execution_count": 8
    }
   ],
   "source": [
    "b"
   ]
  },
  {
   "cell_type": "code",
   "execution_count": null,
   "metadata": {},
   "outputs": [],
   "source": []
  }
 ]
}