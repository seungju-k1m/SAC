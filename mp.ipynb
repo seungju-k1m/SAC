{
 "metadata": {
  "language_info": {
   "codemirror_mode": {
    "name": "ipython",
    "version": 3
   },
   "file_extension": ".py",
   "mimetype": "text/x-python",
   "name": "python",
   "nbconvert_exporter": "python",
   "pygments_lexer": "ipython3",
   "version": "3.6.12-final"
  },
  "orig_nbformat": 2,
  "kernelspec": {
   "name": "Python 3.6.12 64-bit ('obj_detect': conda)",
   "display_name": "Python 3.6.12 64-bit ('obj_detect': conda)",
   "metadata": {
    "interpreter": {
     "hash": "7deb1b2438bfe545aae19c35ee68784cd1c44f3434dac092ec0b61f0646d1489"
    }
   }
  }
 },
 "nbformat": 4,
 "nbformat_minor": 2,
 "cells": [
  {
   "cell_type": "code",
   "execution_count": 1,
   "metadata": {},
   "outputs": [],
   "source": [
    "from multiprocessing import Process, Queue, Manager\n",
    "from mlagents_envs.environment import UnityEnvironment\n",
    "from mlagents_envs.side_channel.engine_configuration_channel import EngineConfigurationChannel\n",
    "from mlagents_envs.side_channel.environment_parameters_channel import EnvironmentParametersChannel\n",
    "import numpy as np\n",
    "\n",
    "\n",
    "nEnv = 8\n",
    "nCPU = 4\n",
    "id = 122\n",
    "envs = []\n",
    "nAgent = 64\n",
    "\n",
    "for _ in range(nEnv):\n",
    "    envs.append(UnityEnvironment('./Env/Linux/Lotte08', worker_id=id+_))\n",
    "    envs[_].reset()\n",
    "\n",
    "\n",
    "\n"
   ]
  },
  {
   "cell_type": "code",
   "execution_count": 2,
   "metadata": {},
   "outputs": [],
   "source": [
    "behaviorNames =list(envs[0].behavior_specs._dict.keys())[0]"
   ]
  },
  {
   "cell_type": "code",
   "execution_count": 3,
   "metadata": {},
   "outputs": [],
   "source": [
    "def getObs(env, n, result, id):\n",
    "    env:UnityEnvironment\n",
    "    done = [False for i in range(n)]\n",
    "    reward = [0 for i in range(n)]\n",
    "    decisionStep, terminalStep = env.get_steps(behaviorNames)\n",
    "    obs, tobs = decisionStep.obs[0], terminalStep.obs[0]\n",
    "    o = np.array(obs)\n",
    "    result.put((o, done, reward))\n",
    "    return True\n"
   ]
  },
  {
   "cell_type": "code",
   "execution_count": 4,
   "metadata": {},
   "outputs": [],
   "source": [
    "def step(env, n):\n",
    "    action = np.zeros((n, 2), dtype=np.float32)\n",
    "    action[:, 0] = 1.0\n",
    "    env.set_actions(behaviorNames, action)\n",
    "    env.step()"
   ]
  },
  {
   "cell_type": "code",
   "execution_count": 5,
   "metadata": {},
   "outputs": [],
   "source": [
    "from multiprocessing import Manager"
   ]
  },
  {
   "cell_type": "code",
   "execution_count": 6,
   "metadata": {},
   "outputs": [],
   "source": [
    "import time"
   ]
  },
  {
   "cell_type": "code",
   "execution_count": null,
   "metadata": {},
   "outputs": [],
   "source": [
    "class Test:\n",
    "\n",
    "    def __init__():\n",
    "        pass\n",
    "\n",
    "    def get\n"
   ]
  },
  {
   "cell_type": "code",
   "execution_count": 7,
   "metadata": {
    "tags": []
   },
   "outputs": [
    {
     "output_type": "stream",
     "name": "stdout",
     "text": [
      "inference:0.208\n",
      "inference:0.080\n",
      "inference:0.092\n",
      "inference:0.103\n",
      "inference:0.100\n",
      "inference:0.100\n",
      "inference:0.100\n",
      "inference:0.099\n",
      "inference:0.101\n",
      "inference:0.098\n",
      "inference:0.101\n",
      "inference:0.101\n",
      "inference:0.097\n",
      "inference:0.103\n",
      "inference:0.097\n",
      "inference:0.101\n",
      "inference:0.113\n",
      "inference:0.089\n",
      "inference:0.095\n",
      "inference:0.102\n",
      "inference:0.098\n",
      "inference:0.089\n",
      "inference:0.113\n",
      "inference:0.098\n",
      "inference:0.102\n",
      "inference:0.099\n",
      "inference:0.099\n",
      "inference:0.101\n",
      "inference:0.101\n",
      "inference:0.099\n",
      "inference:0.100\n",
      "inference:0.100\n",
      "inference:0.097\n",
      "inference:0.103\n",
      "inference:0.101\n",
      "inference:0.086\n",
      "inference:0.111\n",
      "inference:0.103\n",
      "inference:0.100\n",
      "inference:0.093\n",
      "inference:0.094\n",
      "inference:0.101\n",
      "inference:0.111\n",
      "inference:0.097\n",
      "inference:0.102\n",
      "inference:0.090\n",
      "inference:0.110\n",
      "inference:0.085\n",
      "inference:0.104\n",
      "inference:0.112\n",
      "inference:0.083\n",
      "inference:0.114\n",
      "inference:0.099\n",
      "inference:0.104\n",
      "inference:0.084\n",
      "inference:0.113\n",
      "inference:0.087\n",
      "inference:0.114\n",
      "inference:0.087\n",
      "inference:0.112\n",
      "inference:0.100\n",
      "inference:0.088\n",
      "inference:0.112\n",
      "inference:0.089\n",
      "inference:0.111\n",
      "inference:0.086\n",
      "inference:0.115\n",
      "inference:0.087\n",
      "inference:0.099\n",
      "inference:0.111\n",
      "inference:0.100\n",
      "inference:0.101\n",
      "inference:0.088\n",
      "inference:0.112\n",
      "inference:0.088\n",
      "inference:0.143\n",
      "inference:0.096\n",
      "inference:0.097\n",
      "inference:0.094\n",
      "inference:0.086\n",
      "inference:0.083\n",
      "inference:0.109\n",
      "inference:0.103\n",
      "inference:0.085\n",
      "inference:0.100\n",
      "inference:0.112\n",
      "inference:0.100\n",
      "inference:0.103\n",
      "inference:0.095\n",
      "inference:0.104\n",
      "inference:0.091\n",
      "inference:0.111\n",
      "inference:0.086\n",
      "inference:0.110\n",
      "inference:0.086\n",
      "inference:0.101\n",
      "Process Process-775:\n",
      "Process Process-776:\n",
      "Process Process-777:\n",
      "Process Process-774:\n",
      "Traceback (most recent call last):\n",
      "  File \"/home/seungju/anaconda3/envs/obj_detect/lib/python3.6/multiprocessing/process.py\", line 258, in _bootstrap\n",
      "    self.run()\n",
      "  File \"/home/seungju/anaconda3/envs/obj_detect/lib/python3.6/multiprocessing/process.py\", line 93, in run\n",
      "    self._target(*self._args, **self._kwargs)\n",
      "  File \"/home/seungju/anaconda3/envs/obj_detect/lib/python3.6/site-packages/mlagents_envs/timers.py\", line 305, in wrapped\n",
      "    return func(*args, **kwargs)\n",
      "  File \"<ipython-input-4-0db6cdf141bc>\", line 5, in step\n",
      "    env.step()\n",
      "  File \"/home/seungju/anaconda3/envs/obj_detect/lib/python3.6/site-packages/mlagents_envs/environment.py\", line 320, in step\n",
      "    outputs = self._communicator.exchange(step_input)\n",
      "  File \"/home/seungju/anaconda3/envs/obj_detect/lib/python3.6/multiprocessing/process.py\", line 258, in _bootstrap\n",
      "    self.run()\n",
      "Traceback (most recent call last):\n",
      "Traceback (most recent call last):\n",
      "  File \"/home/seungju/anaconda3/envs/obj_detect/lib/python3.6/site-packages/mlagents_envs/rpc_communicator.py\", line 118, in exchange\n",
      "    self.poll_for_timeout()\n",
      "Traceback (most recent call last):\n",
      "  File \"/home/seungju/anaconda3/envs/obj_detect/lib/python3.6/site-packages/mlagents_envs/rpc_communicator.py\", line 95, in poll_for_timeout\n",
      "    if not self.unity_to_external.parent_conn.poll(self.timeout_wait):\n",
      "  File \"/home/seungju/anaconda3/envs/obj_detect/lib/python3.6/multiprocessing/process.py\", line 258, in _bootstrap\n",
      "    self.run()\n",
      "  File \"/home/seungju/anaconda3/envs/obj_detect/lib/python3.6/multiprocessing/connection.py\", line 257, in poll\n",
      "    return self._poll(timeout)\n",
      "  File \"/home/seungju/anaconda3/envs/obj_detect/lib/python3.6/multiprocessing/process.py\", line 258, in _bootstrap\n",
      "    self.run()\n",
      "  File \"/home/seungju/anaconda3/envs/obj_detect/lib/python3.6/multiprocessing/process.py\", line 93, in run\n",
      "    self._target(*self._args, **self._kwargs)\n",
      "  File \"/home/seungju/anaconda3/envs/obj_detect/lib/python3.6/multiprocessing/process.py\", line 93, in run\n",
      "    self._target(*self._args, **self._kwargs)\n",
      "  File \"/home/seungju/anaconda3/envs/obj_detect/lib/python3.6/multiprocessing/process.py\", line 93, in run\n",
      "    self._target(*self._args, **self._kwargs)\n",
      "  File \"/home/seungju/anaconda3/envs/obj_detect/lib/python3.6/multiprocessing/connection.py\", line 414, in _poll\n",
      "    r = wait([self], timeout)\n",
      "  File \"<ipython-input-4-0db6cdf141bc>\", line 5, in step\n",
      "    env.step()\n",
      "  File \"/home/seungju/anaconda3/envs/obj_detect/lib/python3.6/site-packages/mlagents_envs/timers.py\", line 305, in wrapped\n",
      "    return func(*args, **kwargs)\n",
      "  File \"/home/seungju/anaconda3/envs/obj_detect/lib/python3.6/site-packages/mlagents_envs/timers.py\", line 305, in wrapped\n",
      "    return func(*args, **kwargs)\n",
      "  File \"<ipython-input-4-0db6cdf141bc>\", line 5, in step\n",
      "    env.step()\n",
      "  File \"/home/seungju/anaconda3/envs/obj_detect/lib/python3.6/site-packages/mlagents_envs/environment.py\", line 320, in step\n",
      "    outputs = self._communicator.exchange(step_input)\n",
      "  File \"/home/seungju/anaconda3/envs/obj_detect/lib/python3.6/multiprocessing/connection.py\", line 911, in wait\n",
      "    ready = selector.select(timeout)\n",
      "  File \"/home/seungju/anaconda3/envs/obj_detect/lib/python3.6/selectors.py\", line 376, in select\n",
      "    fd_event_list = self._poll.poll(timeout)\n",
      "KeyboardInterrupt\n",
      "  File \"/home/seungju/anaconda3/envs/obj_detect/lib/python3.6/site-packages/mlagents_envs/rpc_communicator.py\", line 118, in exchange\n",
      "    self.poll_for_timeout()\n",
      "  File \"/home/seungju/anaconda3/envs/obj_detect/lib/python3.6/site-packages/mlagents_envs/rpc_communicator.py\", line 95, in poll_for_timeout\n",
      "    if not self.unity_to_external.parent_conn.poll(self.timeout_wait):\n",
      "  File \"/home/seungju/anaconda3/envs/obj_detect/lib/python3.6/multiprocessing/connection.py\", line 257, in poll\n",
      "    return self._poll(timeout)\n",
      "  File \"/home/seungju/anaconda3/envs/obj_detect/lib/python3.6/multiprocessing/connection.py\", line 414, in _poll\n",
      "    r = wait([self], timeout)\n",
      "  File \"/home/seungju/anaconda3/envs/obj_detect/lib/python3.6/multiprocessing/connection.py\", line 911, in wait\n",
      "    ready = selector.select(timeout)\n",
      "  File \"/home/seungju/anaconda3/envs/obj_detect/lib/python3.6/selectors.py\", line 376, in select\n",
      "    fd_event_list = self._poll.poll(timeout)\n",
      "KeyboardInterrupt\n",
      "  File \"<ipython-input-4-0db6cdf141bc>\", line 5, in step\n",
      "    env.step()\n",
      "  File \"/home/seungju/anaconda3/envs/obj_detect/lib/python3.6/site-packages/mlagents_envs/timers.py\", line 305, in wrapped\n",
      "    return func(*args, **kwargs)\n"
     ]
    },
    {
     "output_type": "error",
     "ename": "KeyboardInterrupt",
     "evalue": "",
     "traceback": [
      "\u001b[0;31m---------------------------------------------------------------------------\u001b[0m",
      "\u001b[0;31mKeyboardInterrupt\u001b[0m                         Traceback (most recent call last)",
      "\u001b[0;32m<ipython-input-7-cc5488170f75>\u001b[0m in \u001b[0;36m<module>\u001b[0;34m\u001b[0m\n\u001b[1;32m     25\u001b[0m    \u001b[0mth3\u001b[0m\u001b[0;34m.\u001b[0m\u001b[0mstart\u001b[0m\u001b[0;34m(\u001b[0m\u001b[0;34m)\u001b[0m\u001b[0;34m\u001b[0m\u001b[0;34m\u001b[0m\u001b[0m\n\u001b[1;32m     26\u001b[0m    \u001b[0mth4\u001b[0m\u001b[0;34m.\u001b[0m\u001b[0mstart\u001b[0m\u001b[0;34m(\u001b[0m\u001b[0;34m)\u001b[0m\u001b[0;34m\u001b[0m\u001b[0;34m\u001b[0m\u001b[0m\n\u001b[0;32m---> 27\u001b[0;31m    \u001b[0mth1\u001b[0m\u001b[0;34m.\u001b[0m\u001b[0mjoin\u001b[0m\u001b[0;34m(\u001b[0m\u001b[0;34m)\u001b[0m\u001b[0;34m\u001b[0m\u001b[0;34m\u001b[0m\u001b[0m\n\u001b[0m\u001b[1;32m     28\u001b[0m    \u001b[0mth2\u001b[0m\u001b[0;34m.\u001b[0m\u001b[0mjoin\u001b[0m\u001b[0;34m(\u001b[0m\u001b[0;34m)\u001b[0m\u001b[0;34m\u001b[0m\u001b[0;34m\u001b[0m\u001b[0m\n\u001b[1;32m     29\u001b[0m    \u001b[0mth3\u001b[0m\u001b[0;34m.\u001b[0m\u001b[0mjoin\u001b[0m\u001b[0;34m(\u001b[0m\u001b[0;34m)\u001b[0m\u001b[0;34m\u001b[0m\u001b[0;34m\u001b[0m\u001b[0m\n",
      "\u001b[0;32m~/anaconda3/envs/obj_detect/lib/python3.6/multiprocessing/process.py\u001b[0m in \u001b[0;36mjoin\u001b[0;34m(self, timeout)\u001b[0m\n\u001b[1;32m    122\u001b[0m         \u001b[0;32massert\u001b[0m \u001b[0mself\u001b[0m\u001b[0;34m.\u001b[0m\u001b[0m_parent_pid\u001b[0m \u001b[0;34m==\u001b[0m \u001b[0mos\u001b[0m\u001b[0;34m.\u001b[0m\u001b[0mgetpid\u001b[0m\u001b[0;34m(\u001b[0m\u001b[0;34m)\u001b[0m\u001b[0;34m,\u001b[0m \u001b[0;34m'can only join a child process'\u001b[0m\u001b[0;34m\u001b[0m\u001b[0;34m\u001b[0m\u001b[0m\n\u001b[1;32m    123\u001b[0m         \u001b[0;32massert\u001b[0m \u001b[0mself\u001b[0m\u001b[0;34m.\u001b[0m\u001b[0m_popen\u001b[0m \u001b[0;32mis\u001b[0m \u001b[0;32mnot\u001b[0m \u001b[0;32mNone\u001b[0m\u001b[0;34m,\u001b[0m \u001b[0;34m'can only join a started process'\u001b[0m\u001b[0;34m\u001b[0m\u001b[0;34m\u001b[0m\u001b[0m\n\u001b[0;32m--> 124\u001b[0;31m         \u001b[0mres\u001b[0m \u001b[0;34m=\u001b[0m \u001b[0mself\u001b[0m\u001b[0;34m.\u001b[0m\u001b[0m_popen\u001b[0m\u001b[0;34m.\u001b[0m\u001b[0mwait\u001b[0m\u001b[0;34m(\u001b[0m\u001b[0mtimeout\u001b[0m\u001b[0;34m)\u001b[0m\u001b[0;34m\u001b[0m\u001b[0;34m\u001b[0m\u001b[0m\n\u001b[0m\u001b[1;32m    125\u001b[0m         \u001b[0;32mif\u001b[0m \u001b[0mres\u001b[0m \u001b[0;32mis\u001b[0m \u001b[0;32mnot\u001b[0m \u001b[0;32mNone\u001b[0m\u001b[0;34m:\u001b[0m\u001b[0;34m\u001b[0m\u001b[0;34m\u001b[0m\u001b[0m\n\u001b[1;32m    126\u001b[0m             \u001b[0m_children\u001b[0m\u001b[0;34m.\u001b[0m\u001b[0mdiscard\u001b[0m\u001b[0;34m(\u001b[0m\u001b[0mself\u001b[0m\u001b[0;34m)\u001b[0m\u001b[0;34m\u001b[0m\u001b[0;34m\u001b[0m\u001b[0m\n",
      "\u001b[0;32m~/anaconda3/envs/obj_detect/lib/python3.6/multiprocessing/popen_fork.py\u001b[0m in \u001b[0;36mwait\u001b[0;34m(self, timeout)\u001b[0m\n\u001b[1;32m     48\u001b[0m                     \u001b[0;32mreturn\u001b[0m \u001b[0;32mNone\u001b[0m\u001b[0;34m\u001b[0m\u001b[0;34m\u001b[0m\u001b[0m\n\u001b[1;32m     49\u001b[0m             \u001b[0;31m# This shouldn't block if wait() returned successfully.\u001b[0m\u001b[0;34m\u001b[0m\u001b[0;34m\u001b[0m\u001b[0;34m\u001b[0m\u001b[0m\n\u001b[0;32m---> 50\u001b[0;31m             \u001b[0;32mreturn\u001b[0m \u001b[0mself\u001b[0m\u001b[0;34m.\u001b[0m\u001b[0mpoll\u001b[0m\u001b[0;34m(\u001b[0m\u001b[0mos\u001b[0m\u001b[0;34m.\u001b[0m\u001b[0mWNOHANG\u001b[0m \u001b[0;32mif\u001b[0m \u001b[0mtimeout\u001b[0m \u001b[0;34m==\u001b[0m \u001b[0;36m0.0\u001b[0m \u001b[0;32melse\u001b[0m \u001b[0;36m0\u001b[0m\u001b[0;34m)\u001b[0m\u001b[0;34m\u001b[0m\u001b[0;34m\u001b[0m\u001b[0m\n\u001b[0m\u001b[1;32m     51\u001b[0m         \u001b[0;32mreturn\u001b[0m \u001b[0mself\u001b[0m\u001b[0;34m.\u001b[0m\u001b[0mreturncode\u001b[0m\u001b[0;34m\u001b[0m\u001b[0;34m\u001b[0m\u001b[0m\n\u001b[1;32m     52\u001b[0m \u001b[0;34m\u001b[0m\u001b[0m\n",
      "\u001b[0;32m~/anaconda3/envs/obj_detect/lib/python3.6/multiprocessing/popen_fork.py\u001b[0m in \u001b[0;36mpoll\u001b[0;34m(self, flag)\u001b[0m\n\u001b[1;32m     26\u001b[0m             \u001b[0;32mwhile\u001b[0m \u001b[0;32mTrue\u001b[0m\u001b[0;34m:\u001b[0m\u001b[0;34m\u001b[0m\u001b[0;34m\u001b[0m\u001b[0m\n\u001b[1;32m     27\u001b[0m                 \u001b[0;32mtry\u001b[0m\u001b[0;34m:\u001b[0m\u001b[0;34m\u001b[0m\u001b[0;34m\u001b[0m\u001b[0m\n\u001b[0;32m---> 28\u001b[0;31m                     \u001b[0mpid\u001b[0m\u001b[0;34m,\u001b[0m \u001b[0msts\u001b[0m \u001b[0;34m=\u001b[0m \u001b[0mos\u001b[0m\u001b[0;34m.\u001b[0m\u001b[0mwaitpid\u001b[0m\u001b[0;34m(\u001b[0m\u001b[0mself\u001b[0m\u001b[0;34m.\u001b[0m\u001b[0mpid\u001b[0m\u001b[0;34m,\u001b[0m \u001b[0mflag\u001b[0m\u001b[0;34m)\u001b[0m\u001b[0;34m\u001b[0m\u001b[0;34m\u001b[0m\u001b[0m\n\u001b[0m\u001b[1;32m     29\u001b[0m                 \u001b[0;32mexcept\u001b[0m \u001b[0mOSError\u001b[0m \u001b[0;32mas\u001b[0m \u001b[0me\u001b[0m\u001b[0;34m:\u001b[0m\u001b[0;34m\u001b[0m\u001b[0;34m\u001b[0m\u001b[0m\n\u001b[1;32m     30\u001b[0m                     \u001b[0;31m# Child process not yet created. See #1731717\u001b[0m\u001b[0;34m\u001b[0m\u001b[0;34m\u001b[0m\u001b[0;34m\u001b[0m\u001b[0m\n",
      "\u001b[0;31mKeyboardInterrupt\u001b[0m: "
     ]
    }
   ],
   "source": [
    "manager = Manager()\n",
    "result = manager.Queue()\n",
    "\n",
    "for i in range(500):\n",
    "   x = time.time()\n",
    "   th1_ = Process(target=getObs, args=(envs[0], nAgent, result, 0))\n",
    "   th2_ = Process(target=getObs, args=(envs[1], nAgent, result, 1))\n",
    "   th3_ = Process(target=getObs, args=(envs[2], nAgent, result, 2))\n",
    "   th4_ = Process(target=getObs, args=(envs[3], nAgent, result, 3)) \n",
    "   \n",
    "   th1_.start()\n",
    "   th2_.start()\n",
    "   th3_.start()\n",
    "   th4_.start()\n",
    "   th1_.join()\n",
    "   th2_.join()\n",
    "   th3_.join()\n",
    "   th4_.join()\n",
    "   th1 = Process(target=step, args=(envs[0], nAgent))\n",
    "   th2 = Process(target=step, args=(envs[1], nAgent))\n",
    "   th3 = Process(target=step, args=(envs[2], nAgent))\n",
    "   th4 = Process(target=step, args=(envs[3], nAgent))\n",
    "   th1.start()\n",
    "   th2.start()\n",
    "   th3.start()\n",
    "   th4.start()\n",
    "   th1.join()\n",
    "   th2.join()\n",
    "   th3.join()\n",
    "   th4.join()\n",
    "   print(\"inference:{:.3f}\".format(time.time() - x))"
   ]
  },
  {
   "cell_type": "code",
   "execution_count": 4,
   "metadata": {},
   "outputs": [
    {
     "output_type": "error",
     "ename": "NameError",
     "evalue": "name 'result' is not defined",
     "traceback": [
      "\u001b[0;31m---------------------------------------------------------------------------\u001b[0m",
      "\u001b[0;31mNameError\u001b[0m                                 Traceback (most recent call last)",
      "\u001b[0;32m<ipython-input-4-1b5eea768cff>\u001b[0m in \u001b[0;36m<module>\u001b[0;34m\u001b[0m\n\u001b[0;32m----> 1\u001b[0;31m \u001b[0mresult\u001b[0m\u001b[0;34m.\u001b[0m\u001b[0mput\u001b[0m\u001b[0;34m(\u001b[0m\u001b[0;34m'STOP'\u001b[0m\u001b[0;34m)\u001b[0m\u001b[0;34m\u001b[0m\u001b[0;34m\u001b[0m\u001b[0m\n\u001b[0m",
      "\u001b[0;31mNameError\u001b[0m: name 'result' is not defined"
     ]
    }
   ],
   "source": [
    "result.put('STOP')"
   ]
  },
  {
   "cell_type": "code",
   "execution_count": 8,
   "metadata": {},
   "outputs": [
    {
     "output_type": "stream",
     "name": "stdout",
     "text": [
      "0\n1\n2\n3\nSTOP\n"
     ]
    }
   ],
   "source": [
    "while 1:\n",
    "    a = result.get()\n",
    "    print(a)\n",
    "    if a == 'STOP':\n",
    "        break\n",
    "    "
   ]
  },
  {
   "cell_type": "code",
   "execution_count": null,
   "metadata": {},
   "outputs": [],
   "source": []
  }
 ]
}