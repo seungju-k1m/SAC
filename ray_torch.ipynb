{
 "metadata": {
  "language_info": {
   "codemirror_mode": {
    "name": "ipython",
    "version": 3
   },
   "file_extension": ".py",
   "mimetype": "text/x-python",
   "name": "python",
   "nbconvert_exporter": "python",
   "pygments_lexer": "ipython3",
   "version": "3.6.12-final"
  },
  "orig_nbformat": 2,
  "kernelspec": {
   "name": "Python 3.6.12 64-bit ('obj_detect': conda)",
   "display_name": "Python 3.6.12 64-bit ('obj_detect': conda)",
   "metadata": {
    "interpreter": {
     "hash": "7deb1b2438bfe545aae19c35ee68784cd1c44f3434dac092ec0b61f0646d1489"
    }
   }
  }
 },
 "nbformat": 4,
 "nbformat_minor": 2,
 "cells": [
  {
   "cell_type": "code",
   "execution_count": 1,
   "metadata": {},
   "outputs": [],
   "source": [
    "import ray\n",
    "from mlagents_envs.environment import UnityEnvironment\n",
    "from mlagents_envs.side_channel.engine_configuration_channel import EngineConfigurationChannel\n",
    "from mlagents_envs.side_channel.environment_parameters_channel import EnvironmentParametersChannel\n",
    "import numpy as np"
   ]
  },
  {
   "cell_type": "code",
   "execution_count": 2,
   "metadata": {},
   "outputs": [
    {
     "output_type": "stream",
     "name": "stderr",
     "text": [
      "2021-01-18 14:39:39,761\tINFO services.py:1173 -- View the Ray dashboard at \u001b[1m\u001b[32mhttp://127.0.0.1:8266\u001b[39m\u001b[22m\n"
     ]
    },
    {
     "output_type": "execute_result",
     "data": {
      "text/plain": [
       "{'node_ip_address': '166.104.169.102',\n",
       " 'raylet_ip_address': '166.104.169.102',\n",
       " 'redis_address': '166.104.169.102:21458',\n",
       " 'object_store_address': '/tmp/ray/session_2021-01-18_14-39-39_187037_2758/sockets/plasma_store',\n",
       " 'raylet_socket_name': '/tmp/ray/session_2021-01-18_14-39-39_187037_2758/sockets/raylet',\n",
       " 'webui_url': '127.0.0.1:8266',\n",
       " 'session_dir': '/tmp/ray/session_2021-01-18_14-39-39_187037_2758',\n",
       " 'metrics_export_port': 61195,\n",
       " 'node_id': '320808d5b574d93dc59e072d154c65bcc95aec07'}"
      ]
     },
     "metadata": {},
     "execution_count": 2
    }
   ],
   "source": [
    "ray.init()"
   ]
  },
  {
   "cell_type": "code",
   "execution_count": 3,
   "metadata": {},
   "outputs": [],
   "source": [
    "nEnv = 4\n",
    "nCPU = 4\n",
    "id = 122\n",
    "envs = []\n",
    "nAgent = 64\n",
    "\n",
    "for _ in range(nEnv):\n",
    "    env = ray.remote(UnityEnvironment)\n",
    "    actor = env.remote('./Env/Linux/Lotte08', worker_id=id+_)\n",
    "    envs.append(actor)\n",
    "\n",
    "for e in envs:\n",
    "    e.reset.remote()"
   ]
  },
  {
   "cell_type": "code",
   "execution_count": 4,
   "metadata": {},
   "outputs": [],
   "source": [
    "\n",
    "behaviorNames ='Robot?team=0'"
   ]
  },
  {
   "cell_type": "code",
   "execution_count": 26,
   "metadata": {},
   "outputs": [],
   "source": [
    "@ray.remote\n",
    "def getObs(env, n):\n",
    "    env: UnityEnvironment\n",
    "    done = [ False for i in range(n)]\n",
    "    decisionStep, terminalStep = ray.get(env.get_steps.remote(behaviorNames))\n",
    "    obs, tobs = decisionStep.obs[0], terminalStep.obs[0]\n",
    "    reward, treward = decisionStep.reward, terminalStep.reward\n",
    "    tAgentId = terminalStep.agent_id\n",
    "    obsState = np.array(obs)\n",
    "    for j, state in zip(tAgentId, tobs):\n",
    "        obsState[j] = np.array(state)\n",
    "        done[j] = True\n",
    "        reward[j] = treward[k]\n",
    "        k += 1\n",
    "    return reward"
   ]
  },
  {
   "cell_type": "code",
   "execution_count": 27,
   "metadata": {},
   "outputs": [],
   "source": [
    "import time"
   ]
  },
  {
   "cell_type": "code",
   "execution_count": 28,
   "metadata": {},
   "outputs": [
    {
     "output_type": "stream",
     "name": "stdout",
     "text": [
      "inference:0.018\ninference:0.006\ninference:0.005\ninference:0.005\ninference:0.003\ninference:0.003\ninference:0.004\ninference:0.005\ninference:0.003\ninference:0.003\ninference:0.003\ninference:0.003\ninference:0.003\ninference:0.003\ninference:0.003\ninference:0.003\ninference:0.004\ninference:0.004\ninference:0.004\ninference:0.003\ninference:0.004\ninference:0.005\ninference:0.004\ninference:0.004\ninference:0.003\ninference:0.005\ninference:0.003\ninference:0.003\ninference:0.003\ninference:0.004\ninference:0.004\ninference:0.003\ninference:0.003\ninference:0.004\ninference:0.003\ninference:0.004\ninference:0.004\ninference:0.003\ninference:0.003\ninference:0.004\ninference:0.003\ninference:0.003\ninference:0.003\ninference:0.003\ninference:0.004\ninference:0.003\ninference:0.004\ninference:0.003\ninference:0.004\ninference:0.004\n"
     ]
    }
   ],
   "source": [
    "que = []\n",
    "\n",
    "for i in range(50):\n",
    "    obj_refs = []\n",
    "    x = time.time()\n",
    "    for _ in range(nEnv):\n",
    "        obj_refs.append(getObs.remote(envs[_], nAgent))\n",
    "    que.append(ray.get(obj_refs))\n",
    "    inference_t = time.time()\n",
    "    print(\"inference:{:.3f}\".format(inference_t - x))"
   ]
  },
  {
   "cell_type": "code",
   "execution_count": 24,
   "metadata": {},
   "outputs": [
    {
     "output_type": "error",
     "ename": "RayTaskError(TypeError)",
     "evalue": "\u001b[36mray::getObs()\u001b[39m (pid=4198, ip=166.104.169.102)\n  File \"python/ray/_raylet.pyx\", line 463, in ray._raylet.execute_task\n  File \"<ipython-input-16-2d1941055af6>\", line 5, in getObs\nTypeError: 'ray._raylet.ObjectRef' object is not iterable",
     "traceback": [
      "\u001b[0;31m---------------------------------------------------------------------------\u001b[0m",
      "\u001b[0;31mRayTaskError(TypeError)\u001b[0m                   Traceback (most recent call last)",
      "\u001b[0;32m<ipython-input-24-d9d70019d438>\u001b[0m in \u001b[0;36m<module>\u001b[0;34m\u001b[0m\n\u001b[0;32m----> 1\u001b[0;31m \u001b[0mray\u001b[0m\u001b[0;34m.\u001b[0m\u001b[0mget\u001b[0m\u001b[0;34m(\u001b[0m\u001b[0mobj_refs\u001b[0m\u001b[0;34m[\u001b[0m\u001b[0;36m0\u001b[0m\u001b[0;34m]\u001b[0m\u001b[0;34m)\u001b[0m\u001b[0;34m\u001b[0m\u001b[0;34m\u001b[0m\u001b[0m\n\u001b[0m",
      "\u001b[0;32m~/anaconda3/envs/obj_detect/lib/python3.6/site-packages/ray/worker.py\u001b[0m in \u001b[0;36mget\u001b[0;34m(object_refs, timeout)\u001b[0m\n\u001b[1;32m   1377\u001b[0m                     \u001b[0mworker\u001b[0m\u001b[0;34m.\u001b[0m\u001b[0mcore_worker\u001b[0m\u001b[0;34m.\u001b[0m\u001b[0mdump_object_store_memory_usage\u001b[0m\u001b[0;34m(\u001b[0m\u001b[0;34m)\u001b[0m\u001b[0;34m\u001b[0m\u001b[0;34m\u001b[0m\u001b[0m\n\u001b[1;32m   1378\u001b[0m                 \u001b[0;32mif\u001b[0m \u001b[0misinstance\u001b[0m\u001b[0;34m(\u001b[0m\u001b[0mvalue\u001b[0m\u001b[0;34m,\u001b[0m \u001b[0mRayTaskError\u001b[0m\u001b[0;34m)\u001b[0m\u001b[0;34m:\u001b[0m\u001b[0;34m\u001b[0m\u001b[0;34m\u001b[0m\u001b[0m\n\u001b[0;32m-> 1379\u001b[0;31m                     \u001b[0;32mraise\u001b[0m \u001b[0mvalue\u001b[0m\u001b[0;34m.\u001b[0m\u001b[0mas_instanceof_cause\u001b[0m\u001b[0;34m(\u001b[0m\u001b[0;34m)\u001b[0m\u001b[0;34m\u001b[0m\u001b[0;34m\u001b[0m\u001b[0m\n\u001b[0m\u001b[1;32m   1380\u001b[0m                 \u001b[0;32melse\u001b[0m\u001b[0;34m:\u001b[0m\u001b[0;34m\u001b[0m\u001b[0;34m\u001b[0m\u001b[0m\n\u001b[1;32m   1381\u001b[0m                     \u001b[0;32mraise\u001b[0m \u001b[0mvalue\u001b[0m\u001b[0;34m\u001b[0m\u001b[0;34m\u001b[0m\u001b[0m\n",
      "\u001b[0;31mRayTaskError(TypeError)\u001b[0m: \u001b[36mray::getObs()\u001b[39m (pid=4198, ip=166.104.169.102)\n  File \"python/ray/_raylet.pyx\", line 463, in ray._raylet.execute_task\n  File \"<ipython-input-16-2d1941055af6>\", line 5, in getObs\nTypeError: 'ray._raylet.ObjectRef' object is not iterable"
     ]
    }
   ],
   "source": [
    "ray.get(obj_refs[0])"
   ]
  },
  {
   "cell_type": "code",
   "execution_count": 25,
   "metadata": {},
   "outputs": [
    {
     "output_type": "execute_result",
     "data": {
      "text/plain": [
       "Actor(UnityEnvironment,bd37d26201000000)"
      ]
     },
     "metadata": {},
     "execution_count": 25
    }
   ],
   "source": [
    "envs[_]"
   ]
  },
  {
   "cell_type": "code",
   "execution_count": null,
   "metadata": {},
   "outputs": [],
   "source": []
  }
 ]
}